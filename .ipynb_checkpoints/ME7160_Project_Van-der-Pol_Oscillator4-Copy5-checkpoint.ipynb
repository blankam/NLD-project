{
 "cells": [
  {
   "cell_type": "markdown",
   "metadata": {},
   "source": [
    "# ME 7160 Project\n"
   ]
  },
  {
   "cell_type": "markdown",
   "metadata": {
    "collapsed": true
   },
   "source": [
    "### Solution to Van der Pol oscilator via FFT method:\n",
    "\n",
    "#### Following equation to be solved.\n",
    "\n",
    "**$\\ddot{x} + (x^2 - 1)\\dot{x} + x = Fcos(2\\pi t)$**"
   ]
  },
  {
   "cell_type": "code",
   "execution_count": 65,
   "metadata": {
    "collapsed": false
   },
   "outputs": [
    {
     "name": "stdout",
     "output_type": "stream",
     "text": [
      "Initial values for a\n",
      "[ 1.  1.  1.  1.  1.  1.  1.  1.  1.  1.  1.  1.  1.  1.  1.  1.  1.  1.\n",
      "  1.  1.  1.  1.  1.  1.  1.  1.  1.  1.  1.  1.  1.  1.  1.  1.  1.  1.\n",
      "  1.  1.  1.  1.  1.  1.  1.  1.  1.  1.  1.  1.  1.]\n",
      "[  1.00000000e-11   1.00000000e+00   2.00000000e+00   3.00000000e+00\n",
      "   4.00000000e+00   5.00000000e+00   6.00000000e+00   7.00000000e+00\n",
      "   8.00000000e+00   9.00000000e+00   1.00000000e+01   1.10000000e+01\n",
      "   1.20000000e+01   1.30000000e+01   1.40000000e+01   1.50000000e+01\n",
      "   1.60000000e+01   1.70000000e+01   1.80000000e+01   1.90000000e+01\n",
      "   2.00000000e+01   2.10000000e+01   2.20000000e+01   2.30000000e+01\n",
      "   2.40000000e+01  -2.40000000e+01  -2.30000000e+01  -2.20000000e+01\n",
      "  -2.10000000e+01  -2.00000000e+01  -1.90000000e+01  -1.80000000e+01\n",
      "  -1.70000000e+01  -1.60000000e+01  -1.50000000e+01  -1.40000000e+01\n",
      "  -1.30000000e+01  -1.20000000e+01  -1.10000000e+01  -1.00000000e+01\n",
      "  -9.00000000e+00  -8.00000000e+00  -7.00000000e+00  -6.00000000e+00\n",
      "  -5.00000000e+00  -4.00000000e+00  -3.00000000e+00  -2.00000000e+00\n",
      "  -1.00000000e+00]\n",
      "Optimization terminated successfully.    (Exit mode 0)\n",
      "            Current function value: 1.71693024185e-08\n",
      "            Iterations: 155\n",
      "            Function evaluations: 15753\n",
      "            Gradient evaluations: 155\n",
      "Values of x after optimization:\n",
      "[ 1.05001346  0.70518553 -0.06417276 -1.05229586 -0.81531152 -1.41064433\n",
      " -0.41568791  0.76069618  0.61104656  1.55271194 -0.62867424 -0.95110743\n",
      " -1.78481296 -1.32208178  0.24622708  1.35993224  1.50057283  1.13342903\n",
      " -0.82747314 -1.38274894 -1.56613759 -0.87297061  0.77251683  1.34926505\n",
      "  1.24504771  1.00288507 -1.45927011 -0.98359841 -2.33971367 -0.68269838\n",
      "  0.32595122  1.30229783  1.71814433  0.79883976 -0.90673044 -1.30930554\n",
      " -1.97607055 -0.28922015  0.88356909  1.45688642  1.59145567 -0.15355626\n",
      " -1.29920435 -1.45816869 -1.56329051  0.50994896  1.02922354  1.83238494\n",
      "  1.98214409]\n",
      "value of a\n",
      "[ 1.          0.09251523  0.3920905   0.27299371  0.18190317  0.07692289\n",
      " -0.07147163 -0.05986572 -0.02100173  1.05824267  0.93662963  1.25212039\n",
      " -0.07130897  0.95582266  0.58585834  1.09788221  0.22823818  0.69403253\n",
      "  0.37791777 -0.07668534  0.30853709  0.05427624 -0.02398884  0.45478047\n",
      "  0.03522373  0.03522425  0.45477822 -0.02399077  0.05427614  0.3085469\n",
      " -0.07668527  0.37790984  0.69404006  0.22824171  1.09757222  0.58586055\n",
      "  0.95617426 -0.07131545  1.25212224  0.93662058  1.05825258 -0.02099915\n",
      " -0.05986376 -0.07147215  0.07692531  0.181907    0.27299457  0.39208776\n",
      "  0.09249322]\n"
     ]
    },
    {
     "data": {
      "image/png": "[encoded data removed]",
      "text/plain": [
       "<matplotlib.figure.Figure at 0x9268b70>"
      ]
     },
     "metadata": {},
     "output_type": "display_data"
    }
   ],
   "source": [
    "%matplotlib inline\n",
    "import numpy as np\n",
    "import matplotlib.pyplot as plt\n",
    "import sympy as sp\n",
    "\n",
    "N = 50 #define number of sample points\n",
    "t=np.linspace(0*np.pi, 2*np.pi, N)\n",
    "t=t[0:-1]\n",
    "\n",
    "F = 1.2\n",
    "\n",
    "a0 = 1.0*np.ones(N-1)\n",
    "#x0 = 1.9*np.ones(N-1)\n",
    "x0=2.0*np.cos((2*np.pi*t)/1)\n",
    "#x0=2.0*np.sin(1*t)*np.cos(1*t)\n",
    "\n",
    "x0=np.append(x0, a0)\n",
    "\n",
    "print('Initial values for a')\n",
    "print(x0[(N-1)::])\n",
    "\n",
    "f = F*np.cos((2*np.pi*t))\n",
    "freq = np.fft.fftfreq(N-1, 1/(N-1))+.00000000001 #define Fourier Transform sample frequencies\n",
    "print(freq)\n",
    "\n",
    "# Function resFun defines a residual term that will be used in the optimization operation\n",
    "def resFun(x):\n",
    "    x1 = x[0:-(N-1)]\n",
    "    a1 = x[(N-1)::]\n",
    "    \n",
    "    #a1 = np.abs(x[(N-1)::])\n",
    "    \n",
    "    #for i in a1:\n",
    "    #    if i < 0:\n",
    "    #        i = 0\n",
    "    #    else:\n",
    "    #        i = i\n",
    "    \n",
    "    #for i in range(0, N-1):\n",
    "    #    if a1[i] < 0:\n",
    "    #        a1[1] = 0\n",
    "    #    else:\n",
    "    #        a1[i] = a1[i]\n",
    "              \n",
    "    afreq=np.multiply(freq, a1)\n",
    "    X = np.fft.fft(x1)\n",
    "    xddot = np.fft.ifft(-afreq**2*X)\n",
    "    xdot = np.fft.ifft(1j*afreq*X)\n",
    "    res = xddot + (x1**2 - 1)*xdot + x1 - f\n",
    "    RES = np.sum(np.abs(res**2))\n",
    "    return RES\n",
    "\n",
    "# Goal of the function is to minimize error between solution guess x0 and response in order to\n",
    "# converge to a solution\n",
    "from scipy.optimize import minimize\n",
    "sol = minimize(resFun, x0, method = 'SLSQP', options={'eps':1e-10, 'ftol':1e-8, 'maxiter':50000, 'disp':True})\n",
    "#sol = minimize(resFun, x0)\n",
    "\n",
    "sol1 = sol.x[0:-(N-1)]\n",
    "\n",
    "print('Values of x after optimization:')\n",
    "print(sol1)\n",
    "\n",
    "print('value of a')\n",
    "print(sol.x[(N-1)::])\n",
    "#write results into test file\n",
    "#np.savetxt('results3.txt', sol.x, fmt='%1.2e')\n",
    "\n",
    "#Optional to plot Jacobian of the minimize function\n",
    "#print(sol.jac)\n",
    "\n",
    "#Numerical solution\n",
    "from scipy.integrate import odeint\n",
    "def deriv(x,t):\n",
    "    return np.array([x[1], -(x[0]**2 - 1)*x[1] - x[0] + F*np.cos((2*np.pi*t))])\n",
    "\n",
    "time=np.linspace(0.0,100,2000)\n",
    "xinit=np.array([0, 0])\n",
    "x=odeint(deriv, xinit, time)\n",
    "\n",
    "#Plot of numerical and analytical solutions\n",
    "fig = plt.figure()\n",
    "plt.plot((12.02*np.pi)+t, sol1, 'bo') #FFT solution plot\n",
    "plt.plot(time, x[:,0] , 'r--') #analytical steady state solution to the above posed problem\n",
    "fig.suptitle('Plot of numerical and analytical solutions', fontsize = 14)\n",
    "plt.xlabel('Time')\n",
    "plt.ylabel('Displacement')\n",
    "plt.axis([36, 45, -3, 3])\n",
    "plt.grid()\n",
    "plt.show()"
   ]
  },
  {
   "cell_type": "markdown",
   "metadata": {},
   "source": [
    "### Results from the optimization above can be used to approximate a fitted function that can be used as desired. Assume the following solution:\n",
    "\n",
    "### $x(t) = A_o + A_1cos(\\omega t + \\beta) + A_2cos(2\\omega t + 2\\beta) + A_3cos(3\\omega t + 3\\beta) + A_4cos(4\\omega t + 4\\beta) + A_5cos(5\\omega t + 5\\beta) + A_6cos(6\\omega t + 6\\beta) + A_7cos(7\\omega t + 7\\beta) + A_8cos(8\\omega t + 8\\beta)$\n",
    "\n",
    "#### Here coefficients $A_o$, $A_1$, $A_2$, $A_3$, $A_4$,$A_5$,$A_6$,$A_7$,$A_8$,$\\omega$, $\\beta$ are the unknowns and will be solved for using least square fitting"
   ]
  },
  {
   "cell_type": "code",
   "execution_count": 92,
   "metadata": {
    "collapsed": false
   },
   "outputs": [
    {
     "data": {
      "image/png": "[encoded data removed]",
      "text/plain": [
       "<matplotlib.figure.Figure at 0x8d640b8>"
      ]
     },
     "metadata": {},
     "output_type": "display_data"
    },
    {
     "name": "stdout",
     "output_type": "stream",
     "text": [
      "Coefficient values listed below\n",
      "[ 0.11760557 -1.97091667 -0.1143722   0.03884984 -0.03363919  0.01569703\n",
      " -0.03655659 -0.00491264 -0.00474623  1.02481451  0.18701321]\n"
     ]
    }
   ],
   "source": [
    "#Define function to be called in the \"leastsq\" function\n",
    "def errorFun(p, t):\n",
    "    A0, A1, A2, A3, A4, A5, A6, A7, A8, omega, beta = p\n",
    "    err = sol.x - (A0 + A1*np.cos(omega*t + beta) + A2*np.cos(2*omega*t + 2*beta)\\\n",
    "                   + A3*np.cos(3*omega*t + 3*beta) + A4*np.cos(4*omega*t + 4*beta)\\\n",
    "                   + A5*np.cos(5*omega*t + 5*beta) + A6*np.cos(6*omega*t + 6*beta)\\\n",
    "                   + A7*np.cos(7*omega*t + 7*beta) + A8*np.cos(8*omega*t + 8*beta))\n",
    "    return err\n",
    "\n",
    "#Initial guess for coefficients\n",
    "p0 = [1, 1, 1, 1, 1, 1, 1, 1, 1, 1, 1]\n",
    "#print(np.array(p0))\n",
    "\n",
    "#Least square calculation\n",
    "from scipy.optimize import leastsq\n",
    "plsq = leastsq(errorFun, p0, args=(t))\n",
    "\n",
    "#Function used for plotting purposes\n",
    "def peval(t, p):\n",
    "    return p[0] + p[1]*np.cos(p[9]*t + p[10]) + p[2]*np.cos(2*p[9]*t + 2*p[10])\\\n",
    "                + p[3]*np.cos(3*p[9]*t + 3*p[10]) + p[4]*np.cos(4*p[9]*t + 4*p[10])\\\n",
    "                + p[5]*np.cos(5*p[9]*t + 5*p[10]) + p[6]*np.cos(6*p[9]*t + 6*p[10])\\\n",
    "                + p[7]*np.cos(7*p[9]*t + 7*p[10]) + p[8]*np.cos(8*p[9]*t + 8*p[10])\n",
    "\n",
    "#Plot numerical and least square results\n",
    "import matplotlib.pyplot as plt\n",
    "fig = plt.figure()\n",
    "plt.plot(t, peval(t, plsq[0]), 'b--', linewidth = 4)\n",
    "plt.plot(t, sol.x, 'ro')\n",
    "plt.axis([-1, 7, -3, 3])\n",
    "plt.grid()\n",
    "plt.show()\n",
    "\n",
    "coeff = plsq[0]\n",
    "\n",
    "#Plot calculated results the coefficients\n",
    "print('Coefficient values listed below')\n",
    "print(plsq[0])"
   ]
  },
  {
   "cell_type": "markdown",
   "metadata": {},
   "source": [
    "### Fitted equation can be seen below:"
   ]
  },
  {
   "cell_type": "code",
   "execution_count": 93,
   "metadata": {
    "collapsed": false
   },
   "outputs": [
    {
     "data": {
      "text/latex": [
       "$$- \\frac{197}{100} \\cos{\\left (\\frac{51 t}{50} + \\frac{19}{100} \\right )} - \\frac{11}{100} \\cos{\\left (\\frac{51 t}{25} + \\frac{19}{50} \\right )} + \\frac{1}{25} \\cos{\\left (\\frac{153 t}{50} + \\frac{57}{100} \\right )} - \\frac{3}{100} \\cos{\\left (\\frac{102 t}{25} + \\frac{19}{25} \\right )} + \\frac{1}{50} \\cos{\\left (\\frac{51 t}{10} + \\frac{19}{20} \\right )} - \\frac{1}{25} \\cos{\\left (\\frac{153 t}{25} + \\frac{57}{50} \\right )} + \\frac{3}{25}$$"
      ],
      "text/plain": [
       "         ⎛51⋅t    19⎞         ⎛51⋅t   19⎞      ⎛153⋅t    57⎞        ⎛102⋅t   1\n",
       "  197⋅cos⎜──── + ───⎟   11⋅cos⎜──── + ──⎟   cos⎜───── + ───⎟   3⋅cos⎜───── + ─\n",
       "         ⎝ 50    100⎠         ⎝ 25    50⎠      ⎝  50    100⎠        ⎝  25    2\n",
       "- ─────────────────── - ───────────────── + ──────────────── - ───────────────\n",
       "          100                  100                 25                 100     \n",
       "\n",
       "9⎞      ⎛51⋅t   19⎞      ⎛153⋅t   57⎞     \n",
       "─⎟   cos⎜──── + ──⎟   cos⎜───── + ──⎟     \n",
       "5⎠      ⎝ 10    20⎠      ⎝  25    50⎠   3 \n",
       "── + ────────────── - ─────────────── + ──\n",
       "           50                25         25"
      ]
     },
     "execution_count": 93,
     "metadata": {},
     "output_type": "execute_result"
    }
   ],
   "source": [
    "import sympy as sp\n",
    "sp.init_printing(use_latex='mathjax')\n",
    "\n",
    "time=sp.Symbol('t', real = True)\n",
    "\n",
    "A0=sp.nsimplify(round(coeff[0], 2))\n",
    "A1=sp.nsimplify(round(coeff[1], 2))\n",
    "A2=sp.nsimplify(round(coeff[2], 2))\n",
    "A3=sp.nsimplify(round(coeff[3], 2))\n",
    "A4=sp.nsimplify(round(coeff[4], 2))\n",
    "A5=sp.nsimplify(round(coeff[5], 2))\n",
    "A6=sp.nsimplify(round(coeff[6], 2))\n",
    "A7=sp.nsimplify(round(coeff[7], 2))\n",
    "A8=sp.nsimplify(round(coeff[8], 2))\n",
    "omega=sp.nsimplify(round(coeff[9], 2))\n",
    "beta=sp.nsimplify(round(coeff[10], 2))\n",
    "\n",
    "ans = A0 + A1*sp.cos(omega*time + beta) + A2*sp.cos(2*omega*time + 2*beta)\\\n",
    "         + A3*sp.cos(3*omega*time + 3*beta) + A4*sp.cos(4*omega*time + 4*beta)\\\n",
    "         + A5*sp.cos(5*omega*time + 5*beta) + A6*sp.cos(6*omega*time + 6*beta)\\\n",
    "         + A7*sp.cos(7*omega*time + 7*beta) + A8*sp.cos(8*omega*time + 8*beta)\n",
    "ans"
   ]
  },
  {
   "cell_type": "code",
   "execution_count": null,
   "metadata": {
    "collapsed": true
   },
   "outputs": [],
   "source": []
  }
 ],
 "metadata": {
  "kernelspec": {
   "display_name": "Python 3",
   "language": "python",
   "name": "python3"
  },
  "language_info": {
   "codemirror_mode": {
    "name": "ipython",
    "version": 3
   },
   "file_extension": ".py",
   "mimetype": "text/x-python",
   "name": "python",
   "nbconvert_exporter": "python",
   "pygments_lexer": "ipython3",
   "version": "3.5.0"
  }
 },
 "nbformat": 4,
 "nbformat_minor": 0
}
