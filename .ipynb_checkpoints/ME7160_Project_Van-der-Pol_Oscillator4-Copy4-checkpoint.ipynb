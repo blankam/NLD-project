{
 "cells": [
  {
   "cell_type": "markdown",
   "metadata": {},
   "source": [
    "# ME 7160 Project\n"
   ]
  },
  {
   "cell_type": "markdown",
   "metadata": {
    "collapsed": true
   },
   "source": [
    "### Solution to Van der Pol oscilator via FFT method:\n",
    "\n",
    "#### Following equation to be solved.\n",
    "\n",
    "**$\\ddot{x} + (x^2 - 1)\\dot{x} + x = Fcos(2\\pi t)$**"
   ]
  },
  {
   "cell_type": "code",
   "execution_count": 57,
   "metadata": {
    "collapsed": false
   },
   "outputs": [
    {
     "name": "stdout",
     "output_type": "stream",
     "text": [
      "Initial values for a\n",
      "[ 1.  1.  1.  1.  1.  1.  1.  1.  1.  1.  1.  1.  1.  1.  1.  1.  1.  1.\n",
      "  1.  1.  1.  1.  1.  1.  1.  1.  1.  1.  1.  1.  1.  1.  1.  1.  1.  1.\n",
      "  1.  1.  1.  1.  1.  1.  1.  1.  1.  1.  1.  1.  1.]\n",
      "[  1.00000000e-11   1.00000000e+00   2.00000000e+00   3.00000000e+00\n",
      "   4.00000000e+00   5.00000000e+00   6.00000000e+00   7.00000000e+00\n",
      "   8.00000000e+00   9.00000000e+00   1.00000000e+01   1.10000000e+01\n",
      "   1.20000000e+01   1.30000000e+01   1.40000000e+01   1.50000000e+01\n",
      "   1.60000000e+01   1.70000000e+01   1.80000000e+01   1.90000000e+01\n",
      "   2.00000000e+01   2.10000000e+01   2.20000000e+01   2.30000000e+01\n",
      "   2.40000000e+01  -2.40000000e+01  -2.30000000e+01  -2.20000000e+01\n",
      "  -2.10000000e+01  -2.00000000e+01  -1.90000000e+01  -1.80000000e+01\n",
      "  -1.70000000e+01  -1.60000000e+01  -1.50000000e+01  -1.40000000e+01\n",
      "  -1.30000000e+01  -1.20000000e+01  -1.10000000e+01  -1.00000000e+01\n",
      "  -9.00000000e+00  -8.00000000e+00  -7.00000000e+00  -6.00000000e+00\n",
      "  -5.00000000e+00  -4.00000000e+00  -3.00000000e+00  -2.00000000e+00\n",
      "  -1.00000000e+00]\n",
      "Optimization terminated successfully.    (Exit mode 0)\n",
      "            Current function value: 10.8457311875\n",
      "            Iterations: 7628\n",
      "            Function evaluations: 833942\n",
      "            Gradient evaluations: 7628\n",
      "Values of x after optimization:\n",
      "[-2.69332361 -0.11074507 -0.57761557 -1.59447731 -1.40239566  0.28273877\n",
      "  1.51242484  0.60022541  1.48481982  0.59257152 -0.43500568 -1.90520159\n",
      " -1.4594676  -0.65080375  0.18920866  0.8681633   0.38952938  0.57890031\n",
      " -0.85509475 -2.18368255 -2.30903173 -1.44532436  0.176822   -0.07500565\n",
      " -0.45528557 -1.47320421 -1.88010344 -1.79948888 -1.02343933  0.90317758\n",
      "  1.32953261  1.76757192  0.597064    0.87967583 -0.2752283  -2.06401368\n",
      " -0.69131396  0.03054227 -0.17103236 -0.34400776  0.582445    0.90153459\n",
      " -0.83714122 -1.08354261 -1.4399837  -1.32108537 -0.4654893  -0.17391098\n",
      " -1.01992165]\n",
      "value of a\n",
      "[  1.00000000e+00   9.54061291e-01   4.98769586e-01   6.02616355e-02\n",
      "  -2.62015182e-01   5.50616150e+01   4.22618385e-02  -2.93939729e-02\n",
      "   2.38456195e-02   5.71803385e-02   6.09720960e-02   2.46765148e-02\n",
      "   7.27500449e-02  -8.30875959e-02   9.59499332e-03  -4.31568895e-02\n",
      "  -6.86151205e+00  -1.07290039e-01  -5.56266289e-02  -4.63178871e+01\n",
      "   9.19249828e-02   4.12913850e-02  -4.80281449e-02  -4.18283255e-02\n",
      "   6.72346206e+01  -7.40734158e+01  -3.63674068e-02   6.49042842e-02\n",
      "   3.50345237e-02   8.36980898e-02  -3.98545298e+01   9.65915363e-02\n",
      "  -1.25866788e-01  -9.91246330e+00  -5.88166581e-02  -3.48548213e-02\n",
      "  -8.44208829e-02   5.81334771e-02   4.14562443e-02   5.38006656e-02\n",
      "   3.02383278e-02   4.88463616e-02  -4.78938981e-02   5.11293571e-02\n",
      "  -5.39833372e+01  -2.64738224e-01   3.06807359e-01   4.76619991e-01\n",
      "   1.19764438e+00]\n"
     ]
    },
    {
     "data": {
      "image/png": "[encoded data removed]",
      "text/plain": [
       "<matplotlib.figure.Figure at 0x96732e8>"
      ]
     },
     "metadata": {},
     "output_type": "display_data"
    }
   ],
   "source": [
    "%matplotlib inline\n",
    "import numpy as np\n",
    "import matplotlib.pyplot as plt\n",
    "import sympy as sp\n",
    "\n",
    "N = 50 #define number of sample points\n",
    "t=np.linspace(0*np.pi, 2*np.pi, N)\n",
    "t=t[0:-1]\n",
    "\n",
    "F = 1.2\n",
    "\n",
    "a0 = 1.0*np.ones(N-1)\n",
    "x0 = 1.9*np.ones(N-1)\n",
    "#x0=2.1*np.cos((2*np.pi*t)/1)\n",
    "#x0=2.0*np.sin(1*t)*np.cos(1*t)\n",
    "\n",
    "x0=np.append(x0, a0)\n",
    "\n",
    "print('Initial values for a')\n",
    "print(x0[(N-1)::])\n",
    "\n",
    "f = F*np.cos((2*np.pi*t))\n",
    "freq = np.fft.fftfreq(N-1, 1/(N-1))+.00000000001 #define Fourier Transform sample frequencies\n",
    "print(freq)\n",
    "\n",
    "# Function resFun defines a residual term that will be used in the optimization operation\n",
    "def resFun(x):\n",
    "    x1 = x[0:-(N-1)]\n",
    "    a1 = x[(N-1)::]\n",
    "    \n",
    "    #a1 = np.abs(x[(N-1)::])\n",
    "    \n",
    "    #for i in a1:\n",
    "    #    if i < 0:\n",
    "    #        i = 0\n",
    "    #    else:\n",
    "    #        i = i\n",
    "    \n",
    "    #for i in range(0, N-1):\n",
    "    #    if a1[i] < 0:\n",
    "    #        a1[1] = 0\n",
    "    #    else:\n",
    "    #        a1[i] = a1[i]\n",
    "              \n",
    "    afreq=np.multiply(freq, a1)\n",
    "    X = np.fft.fft(x1)\n",
    "    xddot = np.fft.ifft(-afreq**2*X)\n",
    "    xdot = np.fft.ifft(1j*afreq*X)\n",
    "    res = xddot + (x1**2 - 1)*xdot + x1 - f\n",
    "    RES = np.sum(np.abs(res**2))\n",
    "    return RES\n",
    "\n",
    "# Goal of the function is to minimize error between solution guess x0 and response in order to\n",
    "# converge to a solution\n",
    "from scipy.optimize import minimize\n",
    "sol = minimize(resFun, x0, method = 'SLSQP', options={'eps':1e-10, 'ftol':1e-8, 'maxiter':50000, 'disp':True})\n",
    "#sol = minimize(resFun, x0)\n",
    "\n",
    "sol1 = sol.x[0:-(N-1)]\n",
    "\n",
    "print('Values of x after optimization:')\n",
    "print(sol1)\n",
    "\n",
    "print('value of a')\n",
    "print(sol.x[(N-1)::])\n",
    "#write results into test file\n",
    "#np.savetxt('results3.txt', sol.x, fmt='%1.2e')\n",
    "\n",
    "#Optional to plot Jacobian of the minimize function\n",
    "#print(sol.jac)\n",
    "\n",
    "#Numerical solution\n",
    "from scipy.integrate import odeint\n",
    "def deriv(x,t):\n",
    "    return np.array([x[1], -(x[0]**2 - 1)*x[1] - x[0] + F*np.cos((2*np.pi*t))])\n",
    "\n",
    "time=np.linspace(0.0,100,2000)\n",
    "xinit=np.array([0, 0])\n",
    "x=odeint(deriv, xinit, time)\n",
    "\n",
    "#Plot of numerical and analytical solutions\n",
    "fig = plt.figure()\n",
    "plt.plot((12.02*np.pi)+t, sol1, 'bo') #FFT solution plot\n",
    "plt.plot(time, x[:,0] , 'r--') #analytical steady state solution to the above posed problem\n",
    "fig.suptitle('Plot of numerical and analytical solutions', fontsize = 14)\n",
    "plt.xlabel('Time')\n",
    "plt.ylabel('Displacement')\n",
    "plt.axis([36, 45, -3, 3])\n",
    "plt.grid()\n",
    "plt.show()"
   ]
  },
  {
   "cell_type": "markdown",
   "metadata": {},
   "source": [
    "### Results from the optimization above can be used to approximate a fitted function that can be used as desired. Assume the following solution:\n",
    "\n",
    "### $x(t) = A_o + A_1cos(\\omega t + \\beta) + A_2cos(2\\omega t + 2\\beta) + A_3cos(3\\omega t + 3\\beta) + A_4cos(4\\omega t + 4\\beta) + A_5cos(5\\omega t + 5\\beta) + A_6cos(6\\omega t + 6\\beta) + A_7cos(7\\omega t + 7\\beta) + A_8cos(8\\omega t + 8\\beta)$\n",
    "\n",
    "#### Here coefficients $A_o$, $A_1$, $A_2$, $A_3$, $A_4$,$A_5$,$A_6$,$A_7$,$A_8$,$\\omega$, $\\beta$ are the unknowns and will be solved for using least square fitting"
   ]
  },
  {
   "cell_type": "code",
   "execution_count": 92,
   "metadata": {
    "collapsed": false
   },
   "outputs": [
    {
     "data": {
      "image/png": "[encoded data removed]",
      "text/plain": [
       "<matplotlib.figure.Figure at 0x8d640b8>"
      ]
     },
     "metadata": {},
     "output_type": "display_data"
    },
    {
     "name": "stdout",
     "output_type": "stream",
     "text": [
      "Coefficient values listed below\n",
      "[ 0.11760557 -1.97091667 -0.1143722   0.03884984 -0.03363919  0.01569703\n",
      " -0.03655659 -0.00491264 -0.00474623  1.02481451  0.18701321]\n"
     ]
    }
   ],
   "source": [
    "#Define function to be called in the \"leastsq\" function\n",
    "def errorFun(p, t):\n",
    "    A0, A1, A2, A3, A4, A5, A6, A7, A8, omega, beta = p\n",
    "    err = sol.x - (A0 + A1*np.cos(omega*t + beta) + A2*np.cos(2*omega*t + 2*beta)\\\n",
    "                   + A3*np.cos(3*omega*t + 3*beta) + A4*np.cos(4*omega*t + 4*beta)\\\n",
    "                   + A5*np.cos(5*omega*t + 5*beta) + A6*np.cos(6*omega*t + 6*beta)\\\n",
    "                   + A7*np.cos(7*omega*t + 7*beta) + A8*np.cos(8*omega*t + 8*beta))\n",
    "    return err\n",
    "\n",
    "#Initial guess for coefficients\n",
    "p0 = [1, 1, 1, 1, 1, 1, 1, 1, 1, 1, 1]\n",
    "#print(np.array(p0))\n",
    "\n",
    "#Least square calculation\n",
    "from scipy.optimize import leastsq\n",
    "plsq = leastsq(errorFun, p0, args=(t))\n",
    "\n",
    "#Function used for plotting purposes\n",
    "def peval(t, p):\n",
    "    return p[0] + p[1]*np.cos(p[9]*t + p[10]) + p[2]*np.cos(2*p[9]*t + 2*p[10])\\\n",
    "                + p[3]*np.cos(3*p[9]*t + 3*p[10]) + p[4]*np.cos(4*p[9]*t + 4*p[10])\\\n",
    "                + p[5]*np.cos(5*p[9]*t + 5*p[10]) + p[6]*np.cos(6*p[9]*t + 6*p[10])\\\n",
    "                + p[7]*np.cos(7*p[9]*t + 7*p[10]) + p[8]*np.cos(8*p[9]*t + 8*p[10])\n",
    "\n",
    "#Plot numerical and least square results\n",
    "import matplotlib.pyplot as plt\n",
    "fig = plt.figure()\n",
    "plt.plot(t, peval(t, plsq[0]), 'b--', linewidth = 4)\n",
    "plt.plot(t, sol.x, 'ro')\n",
    "plt.axis([-1, 7, -3, 3])\n",
    "plt.grid()\n",
    "plt.show()\n",
    "\n",
    "coeff = plsq[0]\n",
    "\n",
    "#Plot calculated results the coefficients\n",
    "print('Coefficient values listed below')\n",
    "print(plsq[0])"
   ]
  },
  {
   "cell_type": "markdown",
   "metadata": {},
   "source": [
    "### Fitted equation can be seen below:"
   ]
  },
  {
   "cell_type": "code",
   "execution_count": 93,
   "metadata": {
    "collapsed": false
   },
   "outputs": [
    {
     "data": {
      "text/latex": [
       "$$- \\frac{197}{100} \\cos{\\left (\\frac{51 t}{50} + \\frac{19}{100} \\right )} - \\frac{11}{100} \\cos{\\left (\\frac{51 t}{25} + \\frac{19}{50} \\right )} + \\frac{1}{25} \\cos{\\left (\\frac{153 t}{50} + \\frac{57}{100} \\right )} - \\frac{3}{100} \\cos{\\left (\\frac{102 t}{25} + \\frac{19}{25} \\right )} + \\frac{1}{50} \\cos{\\left (\\frac{51 t}{10} + \\frac{19}{20} \\right )} - \\frac{1}{25} \\cos{\\left (\\frac{153 t}{25} + \\frac{57}{50} \\right )} + \\frac{3}{25}$$"
      ],
      "text/plain": [
       "         ⎛51⋅t    19⎞         ⎛51⋅t   19⎞      ⎛153⋅t    57⎞        ⎛102⋅t   1\n",
       "  197⋅cos⎜──── + ───⎟   11⋅cos⎜──── + ──⎟   cos⎜───── + ───⎟   3⋅cos⎜───── + ─\n",
       "         ⎝ 50    100⎠         ⎝ 25    50⎠      ⎝  50    100⎠        ⎝  25    2\n",
       "- ─────────────────── - ───────────────── + ──────────────── - ───────────────\n",
       "          100                  100                 25                 100     \n",
       "\n",
       "9⎞      ⎛51⋅t   19⎞      ⎛153⋅t   57⎞     \n",
       "─⎟   cos⎜──── + ──⎟   cos⎜───── + ──⎟     \n",
       "5⎠      ⎝ 10    20⎠      ⎝  25    50⎠   3 \n",
       "── + ────────────── - ─────────────── + ──\n",
       "           50                25         25"
      ]
     },
     "execution_count": 93,
     "metadata": {},
     "output_type": "execute_result"
    }
   ],
   "source": [
    "import sympy as sp\n",
    "sp.init_printing(use_latex='mathjax')\n",
    "\n",
    "time=sp.Symbol('t', real = True)\n",
    "\n",
    "A0=sp.nsimplify(round(coeff[0], 2))\n",
    "A1=sp.nsimplify(round(coeff[1], 2))\n",
    "A2=sp.nsimplify(round(coeff[2], 2))\n",
    "A3=sp.nsimplify(round(coeff[3], 2))\n",
    "A4=sp.nsimplify(round(coeff[4], 2))\n",
    "A5=sp.nsimplify(round(coeff[5], 2))\n",
    "A6=sp.nsimplify(round(coeff[6], 2))\n",
    "A7=sp.nsimplify(round(coeff[7], 2))\n",
    "A8=sp.nsimplify(round(coeff[8], 2))\n",
    "omega=sp.nsimplify(round(coeff[9], 2))\n",
    "beta=sp.nsimplify(round(coeff[10], 2))\n",
    "\n",
    "ans = A0 + A1*sp.cos(omega*time + beta) + A2*sp.cos(2*omega*time + 2*beta)\\\n",
    "         + A3*sp.cos(3*omega*time + 3*beta) + A4*sp.cos(4*omega*time + 4*beta)\\\n",
    "         + A5*sp.cos(5*omega*time + 5*beta) + A6*sp.cos(6*omega*time + 6*beta)\\\n",
    "         + A7*sp.cos(7*omega*time + 7*beta) + A8*sp.cos(8*omega*time + 8*beta)\n",
    "ans"
   ]
  },
  {
   "cell_type": "code",
   "execution_count": null,
   "metadata": {
    "collapsed": true
   },
   "outputs": [],
   "source": []
  }
 ],
 "metadata": {
  "kernelspec": {
   "display_name": "Python 3",
   "language": "python",
   "name": "python3"
  },
  "language_info": {
   "codemirror_mode": {
    "name": "ipython",
    "version": 3
   },
   "file_extension": ".py",
   "mimetype": "text/x-python",
   "name": "python",
   "nbconvert_exporter": "python",
   "pygments_lexer": "ipython3",
   "version": "3.5.0"
  }
 },
 "nbformat": 4,
 "nbformat_minor": 0
}
