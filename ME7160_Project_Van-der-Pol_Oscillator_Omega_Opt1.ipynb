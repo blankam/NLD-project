{
 "cells": [
  {
   "cell_type": "markdown",
   "metadata": {},
   "source": [
    "# ME 7160 Project\n"
   ]
  },
  {
   "cell_type": "markdown",
   "metadata": {
    "collapsed": true
   },
   "source": [
    "### Solution to Van der Pol oscilator via FFT method:\n",
    "\n",
    "#### Following equation to be solved.\n",
    "\n",
    "**$\\ddot{x} + (x^2 - 1)\\dot{x} + x = Fcos(2\\pi t)$**"
   ]
  },
  {
   "cell_type": "code",
   "execution_count": 61,
   "metadata": {
    "collapsed": false
   },
   "outputs": [
    {
     "name": "stdout",
     "output_type": "stream",
     "text": [
      "[ 0.25246607+0.j          0.17685731+0.35713626j -0.33496532+1.2035699j\n",
      "  3.18035544-2.90617482j  1.35151953-0.33316954j  1.35151953+0.33316954j\n",
      "  3.18035544+2.90617482j -0.33496532-1.2035699j   0.17685731-0.35713626j]\n",
      "[  1.00000000e-11+0.j   1.00000000e+00+0.j   2.00000000e+00+0.j\n",
      "   3.00000000e+00+0.j   4.00000000e+00+0.j  -4.00000000e+00+0.j\n",
      "  -3.00000000e+00+0.j  -2.00000000e+00+0.j  -1.00000000e+00+0.j]\n",
      "Optimization terminated successfully."
     ]
    },
    {
     "name": "stderr",
     "output_type": "stream",
     "text": [
      "C:\\Users\\WSUadm\\Anaconda3\\lib\\site-packages\\scipy\\optimize\\linesearch.py:171: ComplexWarning: Casting complex values to real discards the imaginary part\n",
      "  amin, amax, isave, dsave)\n",
      "C:\\Users\\WSUadm\\Anaconda3\\lib\\site-packages\\ipykernel\\__main__.py:57: DeprecationWarning: using a non-integer number instead of an integer will result in an error in the future\n",
      "C:\\Users\\WSUadm\\Anaconda3\\lib\\site-packages\\ipykernel\\__main__.py:59: DeprecationWarning: using a non-integer number instead of an integer will result in an error in the future\n",
      "C:\\Users\\WSUadm\\Anaconda3\\lib\\site-packages\\numpy\\core\\numeric.py:474: ComplexWarning: Casting complex values to real discards the imaginary part\n",
      "  return array(a, dtype, copy=False, order=order)\n"
     ]
    },
    {
     "name": "stdout",
     "output_type": "stream",
     "text": [
      "\n",
      "         Current function value: 0.020940\n",
      "         Iterations: 100\n",
      "         Function evaluations: 2540\n",
      "         Gradient evaluations: 127\n",
      "Values of x after optimization:\n",
      "[ 0.30295926+0.j         -0.87136552+0.35713626j -0.56458617+1.2035699j\n",
      " -0.16718106-2.90617482j -0.66856462-0.33316954j  1.68772775+0.33316954j\n",
      " -5.38572508+2.90617482j  0.24818793-1.2035699j  -0.87136551-0.35713626j]\n",
      "[ -8.91587796e-07+0.j   1.37551947e+00+0.j   8.81050325e-02+0.j\n",
      "  -1.46283668e-01+0.j  -1.89364165e+00+0.j   2.61421691e-02+0.j\n",
      "  -4.07791760e-02+0.j   2.33645726e-01+0.j  -1.37551948e+00+0.j]\n",
      "[ 0.30295926+0.j         -0.87136552+0.35713626j -0.56458617+1.2035699j\n",
      " -0.16718106-2.90617482j -0.66856462-0.33316954j]\n",
      "[ -8.91587796e-07+0.j   1.37551947e+00+0.j   8.81050325e-02+0.j\n",
      "  -1.46283668e-01+0.j  -1.89364165e+00+0.j]\n"
     ]
    },
    {
     "data": {
      "image/png": "[encoded data removed]",
      "text/plain": [
       "<matplotlib.figure.Figure at 0x9ccb4e0>"
      ]
     },
     "metadata": {},
     "output_type": "display_data"
    }
   ],
   "source": [
    "%matplotlib inline\n",
    "import numpy as np\n",
    "import matplotlib.pyplot as plt\n",
    "import sympy as sp\n",
    "\n",
    "N = 10 #define number of sample points\n",
    "t=np.linspace(0, 2*np.pi, N)\n",
    "t=t[0:-1]\n",
    "\n",
    "Fn = 1.2\n",
    "\n",
    "#x0=0.25*np.ones(N-1)\n",
    "#X0=np.fft.fft(x0)\n",
    "x0=1.0*np.cos((2*np.pi*t)/1)\n",
    "X0=np.fft.fft(x0)\n",
    "#x0=2.0*np.sin(1*t)*np.cos(1*t)\n",
    "\n",
    "f = Fn*np.cos((2*np.pi*t))\n",
    "F = np.fft.fft(f)\n",
    "freq = np.fft.fftfreq(N-1, 1/(N-1))+.00000000001 #define Fourier Transform sample frequencies\n",
    "\n",
    "x0 = np.append(X0, freq)\n",
    "#print(x0)\n",
    "print(x0[0:(N-1)])\n",
    "print(x0[(N-1)::])\n",
    "\n",
    "# Function resFun defines a residual term that will be used in the optimization operation\n",
    "def resFun(X):\n",
    "    \n",
    "    X1 = X[0:(N-1)]\n",
    "    afreq = X[(N-1)::]\n",
    "    \n",
    "    #X = np.fft.fft(x1)\n",
    "    #xddot = np.fft.ifft(-freq**2*X)\n",
    "    #xdot = np.fft.ifft(1j*freq*X)\n",
    "    \n",
    "    #res = xddot + (x**2 - 1)*xdot + x - f\n",
    "    res = -afreq**2*X1 + (X1**2 - 1)*(1j*afreq*X1) + X1 - F\n",
    "    RES = np.sum(np.abs(res**2))\n",
    "    return RES\n",
    "\n",
    "# Goal of the function is to minimize error between solution guess x0 and response in order to\n",
    "# converge to a solution\n",
    "from scipy.optimize import minimize\n",
    "sol = minimize(resFun, x0, method = 'BFGS', options={'maxiter':50000, 'disp':True})\n",
    "#sol = minimize(resFun, x0)\n",
    "\n",
    "print('Values of x after optimization:')\n",
    "#print(sol.x)\n",
    "\n",
    "Fcoeff = sol.x[0:(N-1)]\n",
    "omega = sol.x[(N-1)::]\n",
    "\n",
    "print(Fcoeff)\n",
    "print(omega)\n",
    "\n",
    "Fcoeff2 = Fcoeff[0:np.ceil(N/2)]\n",
    "print(Fcoeff2)\n",
    "omega2 = omega[0:np.ceil(N/2)]\n",
    "print(omega2)\n",
    "\n",
    "tf=np.linspace(0.0, 20, 40)\n",
    "\n",
    "f_negT = 0\n",
    "for i in range(len(Fcoeff)-1, 0, -1):\n",
    "    f_neg = Fcoeff[i]*np.exp(-1j*omega[i]*tf)\n",
    "    f_negT = f_neg + f_negT\n",
    "\n",
    "f_posT = 0\n",
    "for i in range(len(Fcoeff)):\n",
    "    f_pos = Fcoeff[i]*np.exp(1j*omega[i]*tf)\n",
    "    f_posT = f_pos + f_posT\n",
    "    \n",
    "fsol = f_negT + f_posT\n",
    "\n",
    "f_neg2T = 0\n",
    "for j in range(len(Fcoeff2)-1, 0, -1):\n",
    "    f_neg2 = Fcoeff2[j]*np.exp(-1j*omega2[j]*tf)\n",
    "    f_neg2T = f_neg2 + f_negT\n",
    "\n",
    "f_pos2T = 0\n",
    "for j in range(len(Fcoeff2)):\n",
    "    f_pos2 = np.sum(Fcoeff2[j]*np.exp(1j*omega2[j]*tf))\n",
    "    f_pos2T = f_pos2 + f_pos2T\n",
    "\n",
    "fsol2 = 2*(f_neg2T + f_pos2T)\n",
    "    \n",
    "#Optional to plot Jacobian of the minimize function\n",
    "#print(sol.jac)\n",
    "\n",
    "#Numerical solution\n",
    "from scipy.integrate import odeint\n",
    "def deriv(x,t):\n",
    "    return np.array([x[1], -(x[0]**2 - 1)*x[1] - x[0] + Fn*np.cos((2*np.pi*t))])\n",
    "\n",
    "time=np.linspace(0.0,100,2000)\n",
    "xinit=np.array([0, 0])\n",
    "x=odeint(deriv, xinit, time)\n",
    "\n",
    "#Plot of numerical and analytical solutions\n",
    "fig = plt.figure()\n",
    "plt.plot(tf, fsol, 'bo') #FFT solution plot\n",
    "plt.plot(time, x[:,0] , 'r--') #analytical steady state solution to the above posed problem\n",
    "fig.suptitle('Plot of numerical and analytical solutions', fontsize = 14)\n",
    "plt.xlabel('Time')\n",
    "plt.ylabel('Displacement')\n",
    "plt.axis([0, 46, -3, 3])\n",
    "plt.grid()\n",
    "plt.show()"
   ]
  },
  {
   "cell_type": "markdown",
   "metadata": {},
   "source": [
    "### Results from the optimization above can be used to approximate a fitted function that can be used as desired. Assume the following solution:\n",
    "\n",
    "### $x(t) = A_o + A_1cos(\\omega t + \\beta) + A_2cos(2\\omega t + 2\\beta) + A_3cos(3\\omega t + 3\\beta) + A_4cos(4\\omega t + 4\\beta) + A_5cos(5\\omega t + 5\\beta) + A_6cos(6\\omega t + 6\\beta) + A_7cos(7\\omega t + 7\\beta) + A_8cos(8\\omega t + 8\\beta)$\n",
    "\n",
    "#### Here coefficients $A_o$, $A_1$, $A_2$, $A_3$, $A_4$,$A_5$,$A_6$,$A_7$,$A_8$,$\\omega$, $\\beta$ are the unknowns and will be solved for using least square fitting"
   ]
  },
  {
   "cell_type": "code",
   "execution_count": 2,
   "metadata": {
    "collapsed": false
   },
   "outputs": [
    {
     "data": {
      "image/png": "[encoded data removed]",
      "text/plain": [
       "<matplotlib.figure.Figure at 0x1970735f630>"
      ]
     },
     "metadata": {},
     "output_type": "display_data"
    },
    {
     "name": "stdout",
     "output_type": "stream",
     "text": [
      "Coefficient values listed below\n",
      "[ 0.11716254 -1.97070416 -0.11386081  0.03897838 -0.03331461  0.01575909\n",
      " -0.03693563 -0.00476715 -0.00455915  1.02477318  0.18442868]\n"
     ]
    }
   ],
   "source": [
    "#Define function to be called in the \"leastsq\" function\n",
    "def errorFun(p, t):\n",
    "    A0, A1, A2, A3, A4, A5, A6, A7, A8, omega, beta = p\n",
    "    err = sol.x - (A0 + A1*np.cos(omega*t + beta) + A2*np.cos(2*omega*t + 2*beta)\\\n",
    "                   + A3*np.cos(3*omega*t + 3*beta) + A4*np.cos(4*omega*t + 4*beta)\\\n",
    "                   + A5*np.cos(5*omega*t + 5*beta) + A6*np.cos(6*omega*t + 6*beta)\\\n",
    "                   + A7*np.cos(7*omega*t + 7*beta) + A8*np.cos(8*omega*t + 8*beta))\n",
    "    return err\n",
    "\n",
    "#Initial guess for coefficients\n",
    "p0 = [1, 1, 1, 1, 1, 1, 1, 1, 1, 1, 1]\n",
    "#print(np.array(p0))\n",
    "\n",
    "#Least square calculation\n",
    "from scipy.optimize import leastsq\n",
    "plsq = leastsq(errorFun, p0, args=(t))\n",
    "\n",
    "#Function used for plotting purposes\n",
    "def peval(t, p):\n",
    "    return p[0] + p[1]*np.cos(p[9]*t + p[10]) + p[2]*np.cos(2*p[9]*t + 2*p[10])\\\n",
    "                + p[3]*np.cos(3*p[9]*t + 3*p[10]) + p[4]*np.cos(4*p[9]*t + 4*p[10])\\\n",
    "                + p[5]*np.cos(5*p[9]*t + 5*p[10]) + p[6]*np.cos(6*p[9]*t + 6*p[10])\\\n",
    "                + p[7]*np.cos(7*p[9]*t + 7*p[10]) + p[8]*np.cos(8*p[9]*t + 8*p[10])\n",
    "\n",
    "#Plot numerical and least square results\n",
    "import matplotlib.pyplot as plt\n",
    "fig = plt.figure()\n",
    "plt.plot(t, peval(t, plsq[0]), 'b--', linewidth = 4)\n",
    "plt.plot(t, sol.x, 'ro')\n",
    "plt.axis([-1, 7, -3, 3])\n",
    "plt.grid()\n",
    "plt.show()\n",
    "\n",
    "coeff = plsq[0]\n",
    "\n",
    "#Plot calculated results the coefficients\n",
    "print('Coefficient values listed below')\n",
    "print(plsq[0])"
   ]
  },
  {
   "cell_type": "markdown",
   "metadata": {},
   "source": [
    "### Fitted equation can be seen below:"
   ]
  },
  {
   "cell_type": "code",
   "execution_count": 3,
   "metadata": {
    "collapsed": false
   },
   "outputs": [
    {
     "data": {
      "text/latex": [
       "$$- \\frac{197}{100} \\cos{\\left (\\frac{51 t}{50} + \\frac{9}{50} \\right )} - \\frac{11}{100} \\cos{\\left (\\frac{51 t}{25} + \\frac{9}{25} \\right )} + \\frac{1}{25} \\cos{\\left (\\frac{153 t}{50} + \\frac{27}{50} \\right )} - \\frac{3}{100} \\cos{\\left (\\frac{102 t}{25} + \\frac{18}{25} \\right )} + \\frac{1}{50} \\cos{\\left (\\frac{51 t}{10} + \\frac{9}{10} \\right )} - \\frac{1}{25} \\cos{\\left (\\frac{153 t}{25} + \\frac{27}{25} \\right )} + \\frac{3}{25}$$"
      ],
      "text/plain": [
       "         ⎛51⋅t   9 ⎞         ⎛51⋅t   9 ⎞      ⎛153⋅t   27⎞        ⎛102⋅t   18⎞\n",
       "  197⋅cos⎜──── + ──⎟   11⋅cos⎜──── + ──⎟   cos⎜───── + ──⎟   3⋅cos⎜───── + ──⎟\n",
       "         ⎝ 50    50⎠         ⎝ 25    25⎠      ⎝  50    50⎠        ⎝  25    25⎠\n",
       "- ────────────────── - ───────────────── + ─────────────── - ─────────────────\n",
       "         100                  100                 25                100       \n",
       "\n",
       "      ⎛51⋅t   9 ⎞      ⎛153⋅t   27⎞     \n",
       "   cos⎜──── + ──⎟   cos⎜───── + ──⎟     \n",
       "      ⎝ 10    10⎠      ⎝  25    25⎠   3 \n",
       " + ────────────── - ─────────────── + ──\n",
       "         50                25         25"
      ]
     },
     "execution_count": 3,
     "metadata": {},
     "output_type": "execute_result"
    }
   ],
   "source": [
    "import sympy as sp\n",
    "sp.init_printing(use_latex='mathjax')\n",
    "\n",
    "time=sp.Symbol('t', real = True)\n",
    "\n",
    "A0=sp.nsimplify(round(coeff[0], 2))\n",
    "A1=sp.nsimplify(round(coeff[1], 2))\n",
    "A2=sp.nsimplify(round(coeff[2], 2))\n",
    "A3=sp.nsimplify(round(coeff[3], 2))\n",
    "A4=sp.nsimplify(round(coeff[4], 2))\n",
    "A5=sp.nsimplify(round(coeff[5], 2))\n",
    "A6=sp.nsimplify(round(coeff[6], 2))\n",
    "A7=sp.nsimplify(round(coeff[7], 2))\n",
    "A8=sp.nsimplify(round(coeff[8], 2))\n",
    "omega=sp.nsimplify(round(coeff[9], 2))\n",
    "beta=sp.nsimplify(round(coeff[10], 2))\n",
    "\n",
    "ans = A0 + A1*sp.cos(omega*time + beta) + A2*sp.cos(2*omega*time + 2*beta)\\\n",
    "         + A3*sp.cos(3*omega*time + 3*beta) + A4*sp.cos(4*omega*time + 4*beta)\\\n",
    "         + A5*sp.cos(5*omega*time + 5*beta) + A6*sp.cos(6*omega*time + 6*beta)\\\n",
    "         + A7*sp.cos(7*omega*time + 7*beta) + A8*sp.cos(8*omega*time + 8*beta)\n",
    "ans"
   ]
  },
  {
   "cell_type": "code",
   "execution_count": null,
   "metadata": {
    "collapsed": true
   },
   "outputs": [],
   "source": []
  }
 ],
 "metadata": {
  "kernelspec": {
   "display_name": "Python 3",
   "language": "python",
   "name": "python3"
  },
  "language_info": {
   "codemirror_mode": {
    "name": "ipython",
    "version": 3
   },
   "file_extension": ".py",
   "mimetype": "text/x-python",
   "name": "python",
   "nbconvert_exporter": "python",
   "pygments_lexer": "ipython3",
   "version": "3.5.0"
  }
 },
 "nbformat": 4,
 "nbformat_minor": 0
}
