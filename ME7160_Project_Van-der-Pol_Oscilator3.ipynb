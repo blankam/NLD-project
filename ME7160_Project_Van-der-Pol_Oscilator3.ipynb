{
 "cells": [
  {
   "cell_type": "markdown",
   "metadata": {},
   "source": [
    "# ME 7160 Project\n"
   ]
  },
  {
   "cell_type": "markdown",
   "metadata": {
    "collapsed": true
   },
   "source": [
    "### Solution to Van der Pol oscilator via FFT method:\n",
    "\n",
    "#### Following equation to be solved.\n",
    "\n",
    "**$\\ddot{x} + (x^2 - 1)\\dot{x} + x = cos(t)sin(4t)$**"
   ]
  },
  {
   "cell_type": "code",
   "execution_count": 125,
   "metadata": {
    "collapsed": false
   },
   "outputs": [
    {
     "name": "stdout",
     "output_type": "stream",
     "text": [
      "Warning: Desired error not necessarily achieved due to precision loss.\n",
      "         Current function value: 0.649414\n",
      "         Iterations: 115\n",
      "         Function evaluations: 7662\n",
      "         Gradient evaluations: 153\n",
      "Values of x after optimization:\n",
      "[ 1.06932803  1.3526128   1.59115267  1.77305543  1.89604908  1.965038\n",
      "  1.98797748  1.97317396  1.92840338  1.86081379  1.77672603  1.68107631\n",
      "  1.57669354  1.46379607  1.34004695  1.20127351  1.04265182  0.85994118\n",
      "  0.65037468  0.41302929  0.14882879 -0.13938179 -0.44611843 -0.76171083\n",
      " -1.07093587 -1.35417477 -1.5925269  -1.77415985 -1.89687244 -1.96562272\n",
      " -1.98838607 -1.97346321 -1.92861707 -1.86098352 -1.77687453 -1.68122101\n",
      " -1.57684908 -1.46397577 -1.34026384 -1.20154135 -1.04298668 -0.86036364\n",
      " -0.65091116 -0.41371308 -0.14969622  0.1382984   0.4448069   0.76020348]\n"
     ]
    },
    {
     "data": {
      "image/png": "[encoded data removed]",
      "text/plain": [
       "<matplotlib.figure.Figure at 0x8d6bb70>"
      ]
     },
     "metadata": {},
     "output_type": "display_data"
    }
   ],
   "source": [
    "%matplotlib inline\n",
    "import numpy as np\n",
    "import matplotlib.pyplot as plt\n",
    "import sympy as sp\n",
    "\n",
    "N = 49 #define number of sample points\n",
    "t=np.linspace(0, 2*np.pi, N)\n",
    "t=t[0:-1]\n",
    "\n",
    "F = 1\n",
    "\n",
    "#x0=1.5*np.ones(N-1)\n",
    "#x0=1.48*np.cos(1*t)\n",
    "x0=3.0*np.sin(4*t)*np.cos(1*t)\n",
    "\n",
    "f = F*np.cos(1*t)*np.sin(4*t)\n",
    "freq = np.fft.fftfreq(N-1, 1/(N-1))+.00000000001 #define Fourier Transform sample frequencies\n",
    "\n",
    "# Function resFun defines a residual term that will be used in the optimization operation\n",
    "def resFun(x):\n",
    "    X = np.fft.fft(x)\n",
    "    xddot = np.fft.ifft(-freq**2*X)\n",
    "    xdot = np.fft.ifft(1j*freq*X)\n",
    "    res = xddot + (x**2 - 1)*xdot + x - f\n",
    "    RES = np.sum(np.abs(res**2))\n",
    "    return RES\n",
    "\n",
    "# Goal of the function is to minimize error between solution guess x0 and response in order to\n",
    "# converge to a solution\n",
    "from scipy.optimize import minimize\n",
    "sol = minimize(resFun, x0, method = 'BFGS', options={'maxiter':50000, 'disp':True})\n",
    "#sol = minimize(resFun, x0)\n",
    "\n",
    "print('Values of x after optimization:')\n",
    "print(sol.x)\n",
    "\n",
    "#Optional to plot Jacobian of the minimize function\n",
    "#print(sol.jac)\n",
    "\n",
    "#Numerical solution\n",
    "from scipy.integrate import odeint\n",
    "def deriv(x,t):\n",
    "    return np.array([x[1], -(x[0]**2 - 1)*x[1] - x[0] + F*np.cos(1*t)*np.sin(4*t)])\n",
    "\n",
    "time=np.linspace(0.0,100,2000)\n",
    "xinit=np.array([0, 0])\n",
    "x=odeint(deriv, xinit, time)\n",
    "\n",
    "#Plot of numerical and analytical solutions\n",
    "fig = plt.figure()\n",
    "plt.plot((4.47*np.pi)+t, sol.x, 'bo') #FFT solution plot\n",
    "plt.plot(time, x[:,0] , 'r--') #analytical steady state solution to the above posed problem\n",
    "fig.suptitle('Plot of numerical and analytical solutions', fontsize = 14)\n",
    "plt.xlabel('Time')\n",
    "plt.ylabel('Displacement')\n",
    "plt.axis([13, 23, -3, 3])\n",
    "plt.grid()\n",
    "plt.show()"
   ]
  },
  {
   "cell_type": "markdown",
   "metadata": {},
   "source": [
    "### Results from the optimization above can be used to approximate a fitted function that can be used as desired. Assume the following solution:\n",
    "\n",
    "### $x(t) = A_o + A_1cos(\\omega t + \\beta) + A_2cos(2\\omega t + 2\\beta) + A_3cos(3\\omega t + 3\\beta) + A_4cos(4\\omega t + 4\\beta) + A_5cos(5\\omega t + 5\\beta) + A_6cos(6\\omega t + 6\\beta) + A_7cos(7\\omega t + 7\\beta) + A_8cos(8\\omega t + 8\\beta)$\n",
    "\n",
    "#### Here coefficients $A_o$, $A_1$, $A_2$, $A_3$, $A_4$,$A_5$,$A_6$,$A_7$,$A_8$,$\\omega$, $\\beta$ are the unknowns and will be solved for using least square fitting"
   ]
  },
  {
   "cell_type": "code",
   "execution_count": 126,
   "metadata": {
    "collapsed": false
   },
   "outputs": [
    {
     "data": {
      "image/png": "[encoded data removed]",
      "text/plain": [
       "<matplotlib.figure.Figure at 0x8ab96d8>"
      ]
     },
     "metadata": {},
     "output_type": "display_data"
    },
    {
     "name": "stdout",
     "output_type": "stream",
     "text": [
      "Coefficient values listed below\n",
      "[  4.21417771e-02  -1.97804995e+00  -6.39984611e-02   4.14584453e-02\n",
      "   5.75549205e-02  -2.23565584e-02  -1.52588452e-03   1.94801115e-02\n",
      "  -1.86702733e-02   9.59025818e-01   2.24519230e+00]\n"
     ]
    }
   ],
   "source": [
    "#Define function to be called in the \"leastsq\" function\n",
    "def errorFun(p, t):\n",
    "    A0, A1, A2, A3, A4, A5, A6, A7, A8, omega, beta = p\n",
    "    err = sol.x - (A0 + A1*np.cos(omega*t + beta) + A2*np.cos(2*omega*t + 2*beta)\\\n",
    "                   + A3*np.cos(3*omega*t + 3*beta) + A4*np.cos(4*omega*t + 4*beta)\\\n",
    "                   + A5*np.cos(5*omega*t + 5*beta) + A6*np.cos(6*omega*t + 6*beta)\\\n",
    "                   + A7*np.cos(7*omega*t + 7*beta) + A8*np.cos(8*omega*t + 8*beta))\n",
    "    return err\n",
    "\n",
    "#Initial guess for coefficients\n",
    "p0 = [1, 1, 1, 1, 1, 1, 1, 1, 1, 1, 1]\n",
    "#print(np.array(p0))\n",
    "\n",
    "#Least square calculation\n",
    "from scipy.optimize import leastsq\n",
    "plsq = leastsq(errorFun, p0, args=(t))\n",
    "\n",
    "#Function used for plotting purposes\n",
    "def peval(t, p):\n",
    "    return p[0] + p[1]*np.cos(p[9]*t + p[10]) + p[2]*np.cos(2*p[9]*t + 2*p[10])\\\n",
    "                + p[3]*np.cos(3*p[9]*t + 3*p[10]) + p[4]*np.cos(4*p[9]*t + 4*p[10])\\\n",
    "                + p[5]*np.cos(5*p[9]*t + 5*p[10]) + p[6]*np.cos(6*p[9]*t + 6*p[10])\\\n",
    "                + p[7]*np.cos(7*p[9]*t + 7*p[10]) + p[8]*np.cos(8*p[9]*t + 8*p[10])\n",
    "\n",
    "#Plot numerical and least square results\n",
    "import matplotlib.pyplot as plt\n",
    "fig = plt.figure()\n",
    "plt.plot(t, peval(t, plsq[0]), 'b--', linewidth = 2)\n",
    "plt.plot(t, sol.x, 'ro')\n",
    "plt.axis([-1, 7, -3, 3])\n",
    "plt.grid()\n",
    "plt.show()\n",
    "\n",
    "coeff = plsq[0]\n",
    "\n",
    "#Plot calculated results the coefficients\n",
    "print('Coefficient values listed below')\n",
    "print(plsq[0])"
   ]
  },
  {
   "cell_type": "markdown",
   "metadata": {},
   "source": [
    "### Fitted equation can be seen below:"
   ]
  },
  {
   "cell_type": "code",
   "execution_count": 127,
   "metadata": {
    "collapsed": false
   },
   "outputs": [
    {
     "data": {
      "text/latex": [
       "$$- \\frac{99}{50} \\cos{\\left (\\frac{24 t}{25} + \\frac{9}{4} \\right )} - \\frac{3}{50} \\cos{\\left (\\frac{48 t}{25} + \\frac{9}{2} \\right )} + \\frac{1}{25} \\cos{\\left (\\frac{72 t}{25} + \\frac{27}{4} \\right )} + \\frac{3}{50} \\cos{\\left (\\frac{96 t}{25} + 9 \\right )} - \\frac{1}{50} \\cos{\\left (\\frac{24 t}{5} + \\frac{45}{4} \\right )} + \\frac{1}{50} \\cos{\\left (\\frac{168 t}{25} + \\frac{63}{4} \\right )} - \\frac{1}{50} \\cos{\\left (\\frac{192 t}{25} + 18 \\right )} + \\frac{1}{25}$$"
      ],
      "text/plain": [
       "        ⎛24⋅t   9⎞        ⎛48⋅t   9⎞      ⎛72⋅t   27⎞        ⎛96⋅t    ⎞      ⎛\n",
       "  99⋅cos⎜──── + ─⎟   3⋅cos⎜──── + ─⎟   cos⎜──── + ──⎟   3⋅cos⎜──── + 9⎟   cos⎜\n",
       "        ⎝ 25    4⎠        ⎝ 25    2⎠      ⎝ 25    4 ⎠        ⎝ 25     ⎠      ⎝\n",
       "- ──────────────── - ─────────────── + ────────────── + ─────────────── - ────\n",
       "         50                 50               25                50             \n",
       "\n",
       "24⋅t   45⎞      ⎛168⋅t   63⎞      ⎛192⋅t     ⎞     \n",
       "──── + ──⎟   cos⎜───── + ──⎟   cos⎜───── + 18⎟     \n",
       " 5     4 ⎠      ⎝  25    4 ⎠      ⎝  25      ⎠   1 \n",
       "────────── + ─────────────── - ─────────────── + ──\n",
       "  50                50                50         25"
      ]
     },
     "execution_count": 127,
     "metadata": {},
     "output_type": "execute_result"
    }
   ],
   "source": [
    "import sympy as sp\n",
    "sp.init_printing(use_latex='mathjax')\n",
    "\n",
    "time=sp.Symbol('t', real = True)\n",
    "\n",
    "A0=sp.nsimplify(round(coeff[0], 2))\n",
    "A1=sp.nsimplify(round(coeff[1], 2))\n",
    "A2=sp.nsimplify(round(coeff[2], 2))\n",
    "A3=sp.nsimplify(round(coeff[3], 2))\n",
    "A4=sp.nsimplify(round(coeff[4], 2))\n",
    "A5=sp.nsimplify(round(coeff[5], 2))\n",
    "A6=sp.nsimplify(round(coeff[6], 2))\n",
    "A7=sp.nsimplify(round(coeff[7], 2))\n",
    "A8=sp.nsimplify(round(coeff[8], 2))\n",
    "omega=sp.nsimplify(round(coeff[9], 2))\n",
    "beta=sp.nsimplify(round(coeff[10], 2))\n",
    "\n",
    "ans = A0 + A1*sp.cos(omega*time + beta) + A2*sp.cos(2*omega*time + 2*beta)\\\n",
    "         + A3*sp.cos(3*omega*time + 3*beta) + A4*sp.cos(4*omega*time + 4*beta)\\\n",
    "         + A5*sp.cos(5*omega*time + 5*beta) + A6*sp.cos(6*omega*time + 6*beta)\\\n",
    "         + A7*sp.cos(7*omega*time + 7*beta) + A8*sp.cos(8*omega*time + 8*beta)\n",
    "ans"
   ]
  },
  {
   "cell_type": "code",
   "execution_count": null,
   "metadata": {
    "collapsed": true
   },
   "outputs": [],
   "source": []
  }
 ],
 "metadata": {
  "kernelspec": {
   "display_name": "Python 3",
   "language": "python",
   "name": "python3"
  },
  "language_info": {
   "codemirror_mode": {
    "name": "ipython",
    "version": 3
   },
   "file_extension": ".py",
   "mimetype": "text/x-python",
   "name": "python",
   "nbconvert_exporter": "python",
   "pygments_lexer": "ipython3",
   "version": "3.5.0"
  }
 },
 "nbformat": 4,
 "nbformat_minor": 0
}
